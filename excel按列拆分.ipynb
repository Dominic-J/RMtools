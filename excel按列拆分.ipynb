{
 "cells": [
  {
   "cell_type": "code",
   "execution_count": 1,
   "id": "6d0bd072-13b9-485c-98c0-604891c9c25e",
   "metadata": {},
   "outputs": [],
   "source": [
    "import pandas as pd"
   ]
  },
  {
   "cell_type": "code",
   "execution_count": 2,
   "id": "79eb0a64-d56d-4b33-88b4-2d3d0f42fd97",
   "metadata": {},
   "outputs": [],
   "source": [
    "def split_excel_by_column(input_file, column_name, output_folder):\n",
    "    # 读取Excel文件\n",
    "    df = pd.read_excel(input_file, dtype={'cash_no': str,'credit_no':str,'id_card':str})\n",
    "    print(f\"文件已读取: {input_file}\")\n",
    "    \n",
    "    # 获取该列的唯一值\n",
    "    unique_values = df[column_name].unique()\n",
    "    print(f\"唯一值包括: {unique_values}\")\n",
    "    \n",
    "    # 根据每个唯一值进行拆分\n",
    "    for value in unique_values:\n",
    "        # 根据条件筛选数据\n",
    "        df_filtered = df[df[column_name] == value]\n",
    "        cnt = df_filtered.shape[0]\n",
    "        \n",
    "        # 保存为新的Excel文件\n",
    "        output_file = f\"{output_folder}/{value}_样本_{cnt}.xlsx\"\n",
    "        df_filtered.to_excel(output_file, index=False)\n",
    "        print(f\"文件已保存: {output_file}\")"
   ]
  },
  {
   "cell_type": "code",
   "execution_count": 3,
   "id": "822b1e92-4a11-4287-958d-275e66099f40",
   "metadata": {},
   "outputs": [
    {
     "data": {
      "text/plain": [
       "'D:/shidejing/数据测试/20241205_朴道多头20w样本/'"
      ]
     },
     "execution_count": 3,
     "metadata": {},
     "output_type": "execute_result"
    }
   ],
   "source": [
    "path = r'D:\\shidejing\\数据测试\\20241205_朴道多头20w样本'.replace(\"\\\\\",\"/\") + \"/\"\n",
    "path"
   ]
  },
  {
   "cell_type": "code",
   "execution_count": 4,
   "id": "106676ab-15f2-4d08-af23-3bcce2ed13c8",
   "metadata": {},
   "outputs": [],
   "source": [
    "# 使用示例\n",
    "input_file = '朴道多头样本+贷后+三方.xlsx'  # 输入Excel文件名\n",
    "column_name = 'channel_promote'           # 按此列拆分\n",
    "output_folder = '样本拆分'           # 输出文件夹路径"
   ]
  },
  {
   "cell_type": "code",
   "execution_count": 5,
   "id": "10453827-0ca0-4646-817b-97d17f5c9cd6",
   "metadata": {},
   "outputs": [
    {
     "name": "stdout",
     "output_type": "stream",
     "text": [
      "文件已读取: D:/shidejing/数据测试/20241205_朴道多头20w样本/朴道多头样本+贷后+三方.xlsx\n",
      "唯一值包括: ['百融' 'OPPO联营' '乐享借联营' '乐享借API2' '同程半流程' '洋钱罐' '拍拍贷联营' '分期乐' '乐享借API'\n",
      " '融360' '众安小贷' 'OPPO榕树' '纷领同程' 'OPPO' '好享管家' '乐享借H5' '铂银贷' '自然流量' '优速贷'\n",
      " '点点分期' '花鸭' '安逸融' '小安分期']\n",
      "文件已保存: D:/shidejing/数据测试/20241205_朴道多头20w样本/样本拆分/百融_样本_31282.xlsx\n",
      "文件已保存: D:/shidejing/数据测试/20241205_朴道多头20w样本/样本拆分/OPPO联营_样本_39579.xlsx\n",
      "文件已保存: D:/shidejing/数据测试/20241205_朴道多头20w样本/样本拆分/乐享借联营_样本_41161.xlsx\n",
      "文件已保存: D:/shidejing/数据测试/20241205_朴道多头20w样本/样本拆分/乐享借API2_样本_8609.xlsx\n",
      "文件已保存: D:/shidejing/数据测试/20241205_朴道多头20w样本/样本拆分/同程半流程_样本_4015.xlsx\n",
      "文件已保存: D:/shidejing/数据测试/20241205_朴道多头20w样本/样本拆分/洋钱罐_样本_2529.xlsx\n",
      "文件已保存: D:/shidejing/数据测试/20241205_朴道多头20w样本/样本拆分/拍拍贷联营_样本_57278.xlsx\n",
      "文件已保存: D:/shidejing/数据测试/20241205_朴道多头20w样本/样本拆分/分期乐_样本_234.xlsx\n",
      "文件已保存: D:/shidejing/数据测试/20241205_朴道多头20w样本/样本拆分/乐享借API_样本_5084.xlsx\n",
      "文件已保存: D:/shidejing/数据测试/20241205_朴道多头20w样本/样本拆分/融360_样本_5048.xlsx\n",
      "文件已保存: D:/shidejing/数据测试/20241205_朴道多头20w样本/样本拆分/众安小贷_样本_1496.xlsx\n",
      "文件已保存: D:/shidejing/数据测试/20241205_朴道多头20w样本/样本拆分/OPPO榕树_样本_2436.xlsx\n",
      "文件已保存: D:/shidejing/数据测试/20241205_朴道多头20w样本/样本拆分/纷领同程_样本_1357.xlsx\n",
      "文件已保存: D:/shidejing/数据测试/20241205_朴道多头20w样本/样本拆分/OPPO_样本_116.xlsx\n",
      "文件已保存: D:/shidejing/数据测试/20241205_朴道多头20w样本/样本拆分/好享管家_样本_132.xlsx\n",
      "文件已保存: D:/shidejing/数据测试/20241205_朴道多头20w样本/样本拆分/乐享借H5_样本_5.xlsx\n",
      "文件已保存: D:/shidejing/数据测试/20241205_朴道多头20w样本/样本拆分/铂银贷_样本_111.xlsx\n",
      "文件已保存: D:/shidejing/数据测试/20241205_朴道多头20w样本/样本拆分/自然流量_样本_79.xlsx\n",
      "文件已保存: D:/shidejing/数据测试/20241205_朴道多头20w样本/样本拆分/优速贷_样本_31.xlsx\n",
      "文件已保存: D:/shidejing/数据测试/20241205_朴道多头20w样本/样本拆分/点点分期_样本_21.xlsx\n",
      "文件已保存: D:/shidejing/数据测试/20241205_朴道多头20w样本/样本拆分/花鸭_样本_7.xlsx\n",
      "文件已保存: D:/shidejing/数据测试/20241205_朴道多头20w样本/样本拆分/安逸融_样本_3.xlsx\n",
      "文件已保存: D:/shidejing/数据测试/20241205_朴道多头20w样本/样本拆分/小安分期_样本_8.xlsx\n"
     ]
    }
   ],
   "source": [
    "split_excel_by_column(path+input_file, column_name, path+output_folder)"
   ]
  },
  {
   "cell_type": "code",
   "execution_count": null,
   "id": "bf2fc382-8cfe-49c4-aa9e-03a03f867e18",
   "metadata": {},
   "outputs": [],
   "source": []
  }
 ],
 "metadata": {
  "kernelspec": {
   "display_name": "Python 3 (ipykernel)",
   "language": "python",
   "name": "python3"
  },
  "language_info": {
   "codemirror_mode": {
    "name": "ipython",
    "version": 3
   },
   "file_extension": ".py",
   "mimetype": "text/x-python",
   "name": "python",
   "nbconvert_exporter": "python",
   "pygments_lexer": "ipython3",
   "version": "3.12.3"
  }
 },
 "nbformat": 4,
 "nbformat_minor": 5
}
